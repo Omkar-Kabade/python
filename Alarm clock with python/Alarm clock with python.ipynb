{
 "cells": [
  {
   "cell_type": "code",
   "execution_count": 3,
   "metadata": {},
   "outputs": [],
   "source": [
    "from datetime import datetime\n",
    "from playsound import playsound"
   ]
  },
  {
   "cell_type": "code",
   "execution_count": 4,
   "metadata": {},
   "outputs": [
    {
     "name": "stdout",
     "output_type": "stream",
     "text": [
      "Enter Time To Wake-> In: H:M:S Am/Pm eg-(103001)113900pm\n"
     ]
    }
   ],
   "source": [
    "time_to_wake = input('Enter Time To Wake-> In: H:M:S Am/Pm eg-(103001)')\n",
    "hour=time_to_wake[:2]\n",
    "minute= time_to_wake[2:4]\n",
    "seconds= time_to_wake[4:6]\n",
    "period = time_to_wake[6:9].upper()"
   ]
  },
  {
   "cell_type": "code",
   "execution_count": 5,
   "metadata": {},
   "outputs": [
    {
     "name": "stdout",
     "output_type": "stream",
     "text": [
      "Alarm Tikking\n"
     ]
    }
   ],
   "source": [
    "while True:\n",
    "    current_time = datetime.now()\n",
    "    crnt_hour=current_time.strftime('%I') #strftime() to convert datetime into string\n",
    "    crnt_min=current_time.strftime('%M')\n",
    "    crnt_sec=current_time.strftime('%S')\n",
    "    crnt_period=current_time.strftime('%p')\n",
    "    if hour==crnt_hour:\n",
    "        if minute==crnt_min:\n",
    "            if seconds==crnt_sec:\n",
    "                if period==crnt_period:\n",
    "                    print('Alarm Tikking')\n",
    "                    playsound('alarm.mp3')\n",
    "                    break"
   ]
  },
  {
   "cell_type": "code",
   "execution_count": null,
   "metadata": {},
   "outputs": [],
   "source": []
  }
 ],
 "metadata": {
  "kernelspec": {
   "display_name": "Python 3",
   "language": "python",
   "name": "python3"
  },
  "language_info": {
   "codemirror_mode": {
    "name": "ipython",
    "version": 3
   },
   "file_extension": ".py",
   "mimetype": "text/x-python",
   "name": "python",
   "nbconvert_exporter": "python",
   "pygments_lexer": "ipython3",
   "version": "3.7.7"
  }
 },
 "nbformat": 4,
 "nbformat_minor": 4
}
