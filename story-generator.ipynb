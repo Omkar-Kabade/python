{
 "cells": [
  {
   "cell_type": "code",
   "execution_count": 9,
   "metadata": {},
   "outputs": [
    {
     "name": "stdout",
     "output_type": "stream",
     "text": [
      "Paris is capital of Ireland this country is located in Asia region\n"
     ]
    }
   ],
   "source": [
    "#story generator\n",
    "import random\n",
    "capital = ['Mumbai' , 'Paris' , 'Havana' , 'Dublin']\n",
    "country = ['Ireland' , 'India' , 'France' ,'Cuba']\n",
    "region = ['Asia' , 'Europe']\n",
    "print(random.choice(capital ) +' is capital of '+ random.choice(country) + ' this country is located in ' +random.choice(region) + ' region' )\n",
    "\n",
    "\n",
    "\n",
    "\n"
   ]
  },
  {
   "cell_type": "code",
   "execution_count": null,
   "metadata": {},
   "outputs": [],
   "source": [
    "    "
   ]
  }
 ],
 "metadata": {
  "kernelspec": {
   "display_name": "Python 3",
   "language": "python",
   "name": "python3"
  },
  "language_info": {
   "codemirror_mode": {
    "name": "ipython",
    "version": 3
   },
   "file_extension": ".py",
   "mimetype": "text/x-python",
   "name": "python",
   "nbconvert_exporter": "python",
   "pygments_lexer": "ipython3",
   "version": "3.7.7"
  }
 },
 "nbformat": 4,
 "nbformat_minor": 4
}
